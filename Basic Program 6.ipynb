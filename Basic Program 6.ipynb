{
 "cells": [
  {
   "cell_type": "code",
   "execution_count": 7,
   "metadata": {},
   "outputs": [
    {
     "name": "stdout",
     "output_type": "stream",
     "text": [
      "run sucessfully\n"
     ]
    },
    {
     "data": {
      "text/plain": [
       "120"
      ]
     },
     "execution_count": 7,
     "metadata": {},
     "output_type": "execute_result"
    }
   ],
   "source": [
    "#Recursion using Factorial series\n",
    "import os \n",
    "import logging as l\n",
    "os.mkdir(\"Fact\")\n",
    "os.chdir(os.getcwd()+\"/\"+\"Fact\")\n",
    "l.basicConfig(filename='fact.log', level=l.INFO,format='%(asctime)s-%(message)s')\n",
    "l.info(\"Factorial number are start\")\n",
    "try:\n",
    "    def fact(n):\n",
    "        if type(n)==int:\n",
    "            f1=open('fact.txt','w')\n",
    "            if n==0:\n",
    "                return 1\n",
    "            else:\n",
    "                n=n*fact(n-1)\n",
    "                f1.write(\"the series of fact\")\n",
    "                return(n)\n",
    "except Exception as e:\n",
    "    l.error(e)\n",
    "    \n",
    "finally:\n",
    "    print(\"run sucessfully\")\n",
    "    \n",
    "\n",
    "fact(5)   "
   ]
  },
  {
   "cell_type": "code",
   "execution_count": 8,
   "metadata": {},
   "outputs": [
    {
     "data": {
      "text/plain": [
       "55"
      ]
     },
     "execution_count": 8,
     "metadata": {},
     "output_type": "execute_result"
    }
   ],
   "source": [
    "#Recursion using Fib series\n",
    "def fib(n):\n",
    "    try:\n",
    "        if (n==0):\n",
    "            return 0\n",
    "        elif (n==1)or (n==2):\n",
    "            return 1\n",
    "        else:\n",
    "            return fib(n-1) + fib(n-2) \n",
    "        \n",
    "    except Exception as e:\n",
    "        return(e)\n",
    "    \n",
    "fib(10)               "
   ]
  },
  {
   "cell_type": "code",
   "execution_count": 4,
   "metadata": {},
   "outputs": [
    {
     "name": "stdout",
     "output_type": "stream",
     "text": [
      "Enter your name:vino\n",
      "Enter your weight48\n",
      "Enter your height5.1\n",
      "1.8454440599769322\n"
     ]
    },
    {
     "data": {
      "text/plain": [
       "'vino You are Under Weight, take healthy foods and gain your weight'"
      ]
     },
     "execution_count": 4,
     "metadata": {},
     "output_type": "execute_result"
    }
   ],
   "source": [
    "import logging as l\n",
    "l.basicConfig(filename='kg.log', level=l.INFO,format='%(asctime)s-%(message)s')\n",
    "class BMI:\n",
    "    def __init__(self,name,weight,height):\n",
    "        self.name=name\n",
    "        self.weight=weight\n",
    "        self.height=height  \n",
    "    def bmi(*args):\n",
    "            name=str(input(\"Enter your name:\"))\n",
    "            weight=float(input(\"Enter your weight\"))\n",
    "            height=float(input(\"Enter your height\"))\n",
    "            bmi=weight/(height**2)\n",
    "            print(bmi)\n",
    "            if bmi<18.4:\n",
    "                 return(name+\" You are Under Weight, take healthy foods and gain your weight\")\n",
    "            elif (bmi>=18.4 and bmi<24.9):\n",
    "                 return(name+\"GOOD, Your are Normal Weight\")\n",
    "            elif (bmi>=24.9 and bmi<30):\n",
    "                 return(name+\"OOPS!,Over Weight\")\n",
    "            elif (bmi>=30):\n",
    "                 return(name+\"OMG! you are Obesity\")\n",
    "            else:\n",
    "                print(name,\"You are severely Obese, please take some diet maintain tips\")\n",
    "        \n",
    "        \n",
    "Vino=BMI(\"name\",48,5.1)\n",
    "Vino.bmi()          "
   ]
  },
  {
   "cell_type": "code",
   "execution_count": 61,
   "metadata": {},
   "outputs": [
    {
     "data": {
      "text/plain": [
       "('Long value(1+15)for x=15 is:', 2.772588722239781)"
      ]
     },
     "execution_count": 61,
     "metadata": {},
     "output_type": "execute_result"
    }
   ],
   "source": [
    "#To calculate the natural logarithm of any number\n",
    "import math\n",
    "import logging as vi\n",
    "vi.basicConfig(filename='lg.log', level=vi.INFO, format='%(asctime)s-%(message)s')\n",
    "class LOG:\n",
    "        def __init__(self,log2,log,log10,log1p):\n",
    "                self.log2=log2\n",
    "                self.log=log\n",
    "                self.log10=log10\n",
    "                self.log1p=log1p\n",
    "        try: \n",
    "            def log2(x):\n",
    "                return(\"Long value for base 2:\",math.log2(x))\n",
    "            \n",
    "            def log(x,base):\n",
    "                return(\"Long value for base 4:\", math.log(x,base))\n",
    "            def log10(y):\n",
    "                return(\"Long value for base 10:\",math.log10(y))\n",
    "            \n",
    "            def log1p(z):\n",
    "                return(\"Long value(1+15)for x=15 is:\",math.log1p(z))\n",
    "                \n",
    "        except Exception as e:\n",
    "                vi.ERROR(e)\n",
    "               \n",
    "\n",
    "            \n",
    "Vino=LOG(20,(20,4),15,15)\n",
    "LOG.log2(20)\n",
    "LOG.log(20,4)\n",
    "LOG.log10(15)\n",
    "LOG.log1p(15)"
   ]
  },
  {
   "cell_type": "code",
   "execution_count": 62,
   "metadata": {},
   "outputs": [
    {
     "data": {
      "text/plain": [
       "('Long value for base 2:', 4.321928094887363)"
      ]
     },
     "execution_count": 62,
     "metadata": {},
     "output_type": "execute_result"
    }
   ],
   "source": [
    "\n",
    "LOG.log2(20)"
   ]
  },
  {
   "cell_type": "code",
   "execution_count": 63,
   "metadata": {},
   "outputs": [
    {
     "data": {
      "text/plain": [
       "('Long value for base 10:', 1.1760912590556813)"
      ]
     },
     "execution_count": 63,
     "metadata": {},
     "output_type": "execute_result"
    }
   ],
   "source": [
    "LOG.log10(15)"
   ]
  },
  {
   "cell_type": "code",
   "execution_count": 64,
   "metadata": {},
   "outputs": [
    {
     "data": {
      "text/plain": [
       "('Long value for base 4:', 2.1609640474436813)"
      ]
     },
     "execution_count": 64,
     "metadata": {},
     "output_type": "execute_result"
    }
   ],
   "source": [
    "LOG.log(20,4)"
   ]
  },
  {
   "cell_type": "code",
   "execution_count": 65,
   "metadata": {},
   "outputs": [
    {
     "data": {
      "text/plain": [
       "('Long value(1+15)for x=15 is:', 2.772588722239781)"
      ]
     },
     "execution_count": 65,
     "metadata": {},
     "output_type": "execute_result"
    }
   ],
   "source": [
    "LOG.log1p(15)"
   ]
  },
  {
   "cell_type": "code",
   "execution_count": 28,
   "metadata": {},
   "outputs": [],
   "source": [
    "#cube of natural numbers\n",
    "def sum(n):\n",
    "    sum=0\n",
    "    for i in range(1,n+1):\n",
    "        sum=sum+i*i*i\n",
    "    return sum\n",
    "        \n",
    "        \n",
    "            "
   ]
  },
  {
   "cell_type": "code",
   "execution_count": 30,
   "metadata": {},
   "outputs": [
    {
     "data": {
      "text/plain": [
       "225"
      ]
     },
     "execution_count": 30,
     "metadata": {},
     "output_type": "execute_result"
    }
   ],
   "source": [
    "sum(5)"
   ]
  },
  {
   "cell_type": "code",
   "execution_count": null,
   "metadata": {},
   "outputs": [],
   "source": []
  }
 ],
 "metadata": {
  "kernelspec": {
   "display_name": "Python 3",
   "language": "python",
   "name": "python3"
  },
  "language_info": {
   "codemirror_mode": {
    "name": "ipython",
    "version": 3
   },
   "file_extension": ".py",
   "mimetype": "text/x-python",
   "name": "python",
   "nbconvert_exporter": "python",
   "pygments_lexer": "ipython3",
   "version": "3.8.5"
  }
 },
 "nbformat": 4,
 "nbformat_minor": 4
}
